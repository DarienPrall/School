{
 "cells": [
  {
   "cell_type": "markdown",
   "id": "dd3bca02",
   "metadata": {},
   "source": [
    "# Step 1: Import Libraries\n",
    "Import the necessary libraries including NumPy, scikit-learn, and Matplotlib\n",
    "\n",
    "- numpy and matplotlib.py are the most essential libraries\n",
    "- sklearn.datasets allows me to load the breast cancer dataset\n",
    "- StandardScaler will be used to normalize the features for PCA\n",
    "- PCA is the main topic here. I will import this from sklearns deocmposition module. \n",
    "- train_test_split is required to split and train/test the sets\n",
    "- LogisticRegression will be the classification model\n",
    "- accuracy_score will be used to evaluate prediction peformance"
   ]
  },
  {
   "cell_type": "code",
   "execution_count": 4,
   "id": "687a3139",
   "metadata": {},
   "outputs": [],
   "source": [
    "import numpy as np\n",
    "import pandas as pd\n",
    "import matplotlib.pyplot as plt\n",
    "\n",
    "from sklearn.datasets import load_breast_cancer\n",
    "from sklearn.preprocessing import StandardScaler\n",
    "from sklearn.decomposition import PCA\n",
    "from sklearn.model_selection import train_test_split\n",
    "from sklearn.linear_model import LogisticRegression\n",
    "from sklearn.metrics import accuracy_score\n",
    "\n"
   ]
  },
  {
   "cell_type": "markdown",
   "id": "af07a534",
   "metadata": {},
   "source": [
    "# Step 2: Load the Dataset\n",
    "Load the Breast Cancer Wisconsin dataset using `load_breast_cancer()` function from scikit-learn and separate features (X) and target labels (y).\n",
    "X will be 30 numeric features\n",
    "y will be binary labels that are either 0 malignant, or 1 benign"
   ]
  },
  {
   "cell_type": "code",
   "execution_count": 5,
   "id": "5639cc40",
   "metadata": {},
   "outputs": [],
   "source": [
    "data = load_breast_cancer()\n",
    "X = data.data\n",
    "y = data.target\n",
    "\n",
    "df = pd.DataFrame(X, columns = data.feature_names)\n",
    "#print(df.head())\n",
    "#print(df.describe())\n"
   ]
  },
  {
   "cell_type": "markdown",
   "id": "c589a31c",
   "metadata": {},
   "source": [
    "# Step 3: Split the Data\n",
    "For this assignment, I will split the data into 80% training and 20% testing to allow me to train the model on one portoin and evaluate it on unseen data for a fair accuracy comparison."
   ]
  },
  {
   "cell_type": "code",
   "execution_count": 6,
   "id": "576d581c",
   "metadata": {},
   "outputs": [],
   "source": [
    "X_train, X_test, y_train, y_test = train_test_split(X, y, test_size=0.2, random_state=42)"
   ]
  },
  {
   "cell_type": "markdown",
   "id": "85c2e997",
   "metadata": {},
   "source": [
    "# Step 4: Standardize the Data\n",
    "To standardize the data, I will use the StandardScaler(). Each feature will have a mean of 0 and a standard deviation of 1. I want to ensure that all features contribute to the PCA equally. If I don't standardize the data, feature with larger scales could dominate the principle components."
   ]
  },
  {
   "cell_type": "code",
   "execution_count": 7,
   "id": "ed581d69",
   "metadata": {},
   "outputs": [],
   "source": [
    "scaler = StandardScaler()\n",
    "X_train_scaled = scaler.fit_transform(X_train)\n",
    "X_test_scaled = scaler.transform(X_test)"
   ]
  },
  {
   "cell_type": "markdown",
   "id": "108523f2",
   "metadata": {},
   "source": [
    "# Step 5: Apply PCA\n",
    "For the PCA components, I want to reduce the dimensionse of the dataset from 30 features to 2 principle components."
   ]
  },
  {
   "cell_type": "code",
   "execution_count": 8,
   "id": "129ed4c5",
   "metadata": {},
   "outputs": [],
   "source": [
    "pca = PCA(n_components=2)\n",
    "X_train_pca = pca.fit_transform(X_train_scaled)\n",
    "X_test_pca = pca.transform(X_test_scaled)\n"
   ]
  },
  {
   "cell_type": "markdown",
   "id": "49156cb3",
   "metadata": {},
   "source": [
    "# Step 6: Train and Evaluate the Model without PCA\n",
    "Now I can train a Logistic Regression classifier on the original 30 standardized features to serve as the baseline for comparison."
   ]
  },
  {
   "cell_type": "code",
   "execution_count": 9,
   "id": "d2ad47a0",
   "metadata": {},
   "outputs": [
    {
     "name": "stdout",
     "output_type": "stream",
     "text": [
      "Accuracy without PCA: 0.9737\n"
     ]
    }
   ],
   "source": [
    "model_no_pca = LogisticRegression()\n",
    "model_no_pca.fit(X_train_scaled, y_train)\n",
    "y_pred_no_pca = model_no_pca.predict(X_test_scaled)\n",
    "accuracy_no_pca = accuracy_score(y_test, y_pred_no_pca)\n",
    "print(f\"Accuracy without PCA: {accuracy_no_pca:.4f}\")\n"
   ]
  },
  {
   "cell_type": "markdown",
   "id": "6dff2a92",
   "metadata": {},
   "source": [
    "# Step 7: Train and Evaluate the Model with PCA\n",
    "Now I will train the same model on the PCA-reduced dataset that has only 2-features to see how well the model performs with less features. If the two components can caputre enough variance, the performance might not degrade by a lot."
   ]
  },
  {
   "cell_type": "code",
   "execution_count": 10,
   "id": "8ea3e375",
   "metadata": {},
   "outputs": [
    {
     "name": "stdout",
     "output_type": "stream",
     "text": [
      "Accuracy with PCA: 0.9912\n"
     ]
    }
   ],
   "source": [
    "model_pca = LogisticRegression()\n",
    "model_pca.fit(X_train_pca, y_train)\n",
    "y_pred_pca = model_pca.predict(X_test_pca)\n",
    "accuracy_pca = accuracy_score(y_test, y_pred_pca)\n",
    "print(f\"Accuracy with PCA: {accuracy_pca:.4f}\")"
   ]
  },
  {
   "cell_type": "markdown",
   "id": "acad3f5a",
   "metadata": {},
   "source": [
    "# Step 8: Compare Accuracy\n"
   ]
  },
  {
   "cell_type": "code",
   "execution_count": 11,
   "id": "518a659d",
   "metadata": {},
   "outputs": [
    {
     "name": "stdout",
     "output_type": "stream",
     "text": [
      "Accuracy Improvement:  0.01754385964912275\n"
     ]
    }
   ],
   "source": [
    "print(\"Accuracy Improvement: \", accuracy_pca - accuracy_no_pca)"
   ]
  }
 ],
 "metadata": {
  "kernelspec": {
   "display_name": "Python 3",
   "language": "python",
   "name": "python3"
  },
  "language_info": {
   "codemirror_mode": {
    "name": "ipython",
    "version": 3
   },
   "file_extension": ".py",
   "mimetype": "text/x-python",
   "name": "python",
   "nbconvert_exporter": "python",
   "pygments_lexer": "ipython3",
   "version": "3.9.6"
  }
 },
 "nbformat": 4,
 "nbformat_minor": 5
}
