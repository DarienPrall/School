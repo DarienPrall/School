{
 "cells": [
  {
   "cell_type": "markdown",
   "id": "45c69191",
   "metadata": {},
   "source": [
    "### Step 1: Setup the Environment\n",
    "\n",
    "In this step, I will import all the necessary libraries and modules needed for the analysis. This includes libraries for data manipulation, machine learning, and visualization. I will be using Python’s `pandas`, `numpy`, `matplotlib`, and `sklearn` for data preprocessing, clustering, model training, and evaluation."
   ]
  },
  {
   "cell_type": "code",
   "execution_count": 51,
   "id": "75990d3e",
   "metadata": {},
   "outputs": [],
   "source": [
    "import numpy as np\n",
    "import pandas as pd\n",
    "import matplotlib.pyplot as plt\n",
    "\n",
    "from sklearn.model_selection import train_test_split\n",
    "from sklearn.preprocessing import StandardScaler, OneHotEncoder\n",
    "from sklearn.compose import make_column_transformer\n",
    "from sklearn.cluster import KMeans\n",
    "from sklearn.ensemble import RandomForestClassifier\n",
    "from sklearn.metrics import accuracy_score, classification_report\n"
   ]
  },
  {
   "cell_type": "markdown",
   "id": "ba91072a",
   "metadata": {},
   "source": [
    "### Step 2: Load the Dataset\n",
    "\n",
    "In this step, I will load the dataset into a pandas dataframe from the provided path. I will also take a quick look at the first few rows of the dataset to understand its structure and identify the features we need to work with."
   ]
  },
  {
   "cell_type": "code",
   "execution_count": 52,
   "id": "9e20b8a1",
   "metadata": {},
   "outputs": [
    {
     "name": "stdout",
     "output_type": "stream",
     "text": [
      "   CLIENTNUM     Attrition_Flag  Customer_Age Gender  Dependent_count  \\\n",
      "0  768805383  Existing Customer            45      M                3   \n",
      "1  818770008  Existing Customer            49      F                5   \n",
      "2  713982108  Existing Customer            51      M                3   \n",
      "3  769911858  Existing Customer            40      F                4   \n",
      "4  709106358  Existing Customer            40      M                3   \n",
      "\n",
      "  Education_Level Marital_Status Income_Category Card_Category  \\\n",
      "0     High School        Married     $60K - $80K          Blue   \n",
      "1        Graduate         Single  Less than $40K          Blue   \n",
      "2        Graduate        Married    $80K - $120K          Blue   \n",
      "3     High School        Unknown  Less than $40K          Blue   \n",
      "4      Uneducated        Married     $60K - $80K          Blue   \n",
      "\n",
      "   Months_on_book  ...  Credit_Limit  Total_Revolving_Bal  Avg_Open_To_Buy  \\\n",
      "0              39  ...       12691.0                  777          11914.0   \n",
      "1              44  ...        8256.0                  864           7392.0   \n",
      "2              36  ...        3418.0                    0           3418.0   \n",
      "3              34  ...        3313.0                 2517            796.0   \n",
      "4              21  ...        4716.0                    0           4716.0   \n",
      "\n",
      "   Total_Amt_Chng_Q4_Q1  Total_Trans_Amt  Total_Trans_Ct  Total_Ct_Chng_Q4_Q1  \\\n",
      "0                 1.335             1144              42                1.625   \n",
      "1                 1.541             1291              33                3.714   \n",
      "2                 2.594             1887              20                2.333   \n",
      "3                 1.405             1171              20                2.333   \n",
      "4                 2.175              816              28                2.500   \n",
      "\n",
      "   Avg_Utilization_Ratio  \\\n",
      "0                  0.061   \n",
      "1                  0.105   \n",
      "2                  0.000   \n",
      "3                  0.760   \n",
      "4                  0.000   \n",
      "\n",
      "   Naive_Bayes_Classifier_Attrition_Flag_Card_Category_Contacts_Count_12_mon_Dependent_count_Education_Level_Months_Inactive_12_mon_1  \\\n",
      "0                                           0.000093                                                                                    \n",
      "1                                           0.000057                                                                                    \n",
      "2                                           0.000021                                                                                    \n",
      "3                                           0.000134                                                                                    \n",
      "4                                           0.000022                                                                                    \n",
      "\n",
      "   Naive_Bayes_Classifier_Attrition_Flag_Card_Category_Contacts_Count_12_mon_Dependent_count_Education_Level_Months_Inactive_12_mon_2  \n",
      "0                                            0.99991                                                                                   \n",
      "1                                            0.99994                                                                                   \n",
      "2                                            0.99998                                                                                   \n",
      "3                                            0.99987                                                                                   \n",
      "4                                            0.99998                                                                                   \n",
      "\n",
      "[5 rows x 23 columns]\n"
     ]
    }
   ],
   "source": [
    "data = pd.read_csv('/Users/darienprall/Documents/GitHub/School/Capella/CSC-4030_Introduction_to_Machine_Learning/Assessment_9/credit_card_customers.csv')\n",
    "print(data.head())"
   ]
  },
  {
   "cell_type": "markdown",
   "id": "616ef8d0",
   "metadata": {},
   "source": [
    "### Step 3: Data Preprocessing\n",
    "\n",
    "In this step, I will preprocess the data by:\n",
    "- Separating the features (`X`) and the target variable (`y`).\n",
    "- Encoding categorical features using OneHotEncoder.\n",
    "- Scaling numerical features like `Age` and `CreditCardLimit` using StandardScaler.\n",
    "I will use a `ColumnTransformer` to apply these transformations.\n"
   ]
  },
  {
   "cell_type": "code",
   "execution_count": null,
   "id": "899777fa",
   "metadata": {},
   "outputs": [
    {
     "name": "stdout",
     "output_type": "stream",
     "text": [
      "[[-1.65405580e-01  5.03368127e-01  3.84620878e-01  7.63942609e-01\n",
      "  -1.32713603e+00  4.92403766e-01  4.46621903e-01 -4.73422218e-01\n",
      "   4.88970818e-01  2.62349444e+00 -9.59706574e-01 -9.73895182e-01\n",
      "   3.83400260e+00 -7.75882235e-01 -4.37753814e-01  4.37763128e-01\n",
      "   0.00000000e+00  1.00000000e+00  0.00000000e+00  0.00000000e+00\n",
      "   0.00000000e+00  1.00000000e+00  0.00000000e+00  0.00000000e+00\n",
      "   0.00000000e+00  0.00000000e+00  1.00000000e+00  0.00000000e+00\n",
      "   0.00000000e+00  0.00000000e+00  0.00000000e+00  1.00000000e+00\n",
      "   0.00000000e+00  0.00000000e+00  0.00000000e+00  1.00000000e+00\n",
      "   0.00000000e+00  0.00000000e+00  0.00000000e+00  7.68805383e+08]\n",
      " [ 3.33570383e-01  2.04319867e+00  1.01071482e+00  1.40730617e+00\n",
      "  -1.32713603e+00 -4.11615984e-01 -4.13666521e-02 -3.66666822e-01\n",
      "  -8.48598788e-03  3.56329284e+00 -9.16432607e-01 -1.35734038e+00\n",
      "   1.26085729e+01 -6.16275655e-01 -4.37853975e-01  4.37845257e-01\n",
      "   1.00000000e+00  0.00000000e+00  0.00000000e+00  0.00000000e+00\n",
      "   1.00000000e+00  0.00000000e+00  0.00000000e+00  0.00000000e+00\n",
      "   0.00000000e+00  0.00000000e+00  0.00000000e+00  1.00000000e+00\n",
      "   0.00000000e+00  0.00000000e+00  0.00000000e+00  0.00000000e+00\n",
      "   0.00000000e+00  1.00000000e+00  0.00000000e+00  1.00000000e+00\n",
      "   0.00000000e+00  0.00000000e+00  0.00000000e+00  8.18770008e+08]\n",
      " [ 5.83058365e-01  5.03368127e-01  8.96451285e-03  1.20579050e-01\n",
      "  -1.32713603e+00 -2.21965548e+00 -5.73697797e-01 -1.42685834e+00\n",
      "  -4.45658333e-01  8.36721381e+00 -7.40981694e-01 -1.91120566e+00\n",
      "   6.80786367e+00 -9.97154993e-01 -4.37951926e-01  4.37954761e-01\n",
      "   0.00000000e+00  1.00000000e+00  0.00000000e+00  0.00000000e+00\n",
      "   1.00000000e+00  0.00000000e+00  0.00000000e+00  0.00000000e+00\n",
      "   0.00000000e+00  0.00000000e+00  1.00000000e+00  0.00000000e+00\n",
      "   0.00000000e+00  0.00000000e+00  0.00000000e+00  0.00000000e+00\n",
      "   1.00000000e+00  0.00000000e+00  0.00000000e+00  1.00000000e+00\n",
      "   0.00000000e+00  0.00000000e+00  0.00000000e+00  7.13982108e+08]\n",
      " [-7.89125535e-01  1.27328340e+00 -2.41473064e-01 -5.22784510e-01\n",
      "   1.64147829e+00 -1.31563573e+00 -5.85251078e-01  1.66168570e+00\n",
      "  -7.34099674e-01  2.94284341e+00 -9.51758294e-01 -1.91120566e+00\n",
      "   6.80786367e+00  1.75968594e+00 -4.37643730e-01  4.37653624e-01\n",
      "   1.00000000e+00  0.00000000e+00  0.00000000e+00  0.00000000e+00\n",
      "   0.00000000e+00  1.00000000e+00  0.00000000e+00  0.00000000e+00\n",
      "   0.00000000e+00  0.00000000e+00  0.00000000e+00  0.00000000e+00\n",
      "   1.00000000e+00  0.00000000e+00  0.00000000e+00  0.00000000e+00\n",
      "   0.00000000e+00  1.00000000e+00  0.00000000e+00  1.00000000e+00\n",
      "   0.00000000e+00  0.00000000e+00  0.00000000e+00  7.69911858e+08]\n",
      " [-7.89125535e-01  5.03368127e-01 -1.86931731e+00  7.63942609e-01\n",
      "  -1.32713603e+00 -2.21965548e+00 -4.30877246e-01 -1.42685834e+00\n",
      "  -3.02867768e-01  6.45568210e+00 -1.05626345e+00 -1.57036549e+00\n",
      "   7.50932526e+00 -9.97154993e-01 -4.37950297e-01  4.37954761e-01\n",
      "   0.00000000e+00  1.00000000e+00  0.00000000e+00  0.00000000e+00\n",
      "   0.00000000e+00  0.00000000e+00  0.00000000e+00  1.00000000e+00\n",
      "   0.00000000e+00  0.00000000e+00  1.00000000e+00  0.00000000e+00\n",
      "   0.00000000e+00  0.00000000e+00  0.00000000e+00  1.00000000e+00\n",
      "   0.00000000e+00  0.00000000e+00  0.00000000e+00  1.00000000e+00\n",
      "   0.00000000e+00  0.00000000e+00  0.00000000e+00  7.09106358e+08]]\n"
     ]
    }
   ],
   "source": [
    "data['Churn'] = data['Attrition_Flag'].map({\n",
    "    'Attrited Customer': 1, \n",
    "    'Existing Customer': 0\n",
    "})\n",
    "\n",
    "X = data.drop(['Attrition_Flag', 'Churn'], axis = 1)\n",
    "y = data['Churn']\n",
    "\n",
    "categorical_features = [\n",
    "    'Gender',\n",
    "    'Education_Level',\n",
    "    'Marital_Status',\n",
    "    'Income_Category',\n",
    "    'Card_Category'\n",
    "]\n",
    "\n",
    "numerical_features = [\n",
    "    'Customer_Age',\n",
    "    'Dependent_count',\n",
    "    'Months_on_book',\n",
    "    'Total_Relationship_Count',\n",
    "    'Months_Inactive_12_mon',\n",
    "    'Contacts_Count_12_mon',\n",
    "    'Credit_Limit',\n",
    "    'Total_Revolving_Bal',\n",
    "    'Avg_Open_To_Buy',\n",
    "    'Total_Amt_Chng_Q4_Q1',\n",
    "    'Total_Trans_Amt',\n",
    "    'Total_Trans_Ct',\n",
    "    'Total_Ct_Chng_Q4_Q1',\n",
    "    'Avg_Utilization_Ratio',\n",
    "    'Naive_Bayes_Classifier_Attrition_Flag_Card_Category_Contacts_Count_12_mon_Dependent_count_Education_Level_Months_Inactive_12_mon_1',\n",
    "    'Naive_Bayes_Classifier_Attrition_Flag_Card_Category_Contacts_Count_12_mon_Dependent_count_Education_Level_Months_Inactive_12_mon_2'\n",
    "]\n",
    "\n",
    "preprocess = make_column_transformer(\n",
    "    (StandardScaler(), numerical_features),\n",
    "    (OneHotEncoder(), categorical_features),\n",
    "    remainder='passthrough'\n",
    ")\n",
    "#print(X.columns)\n",
    "X_processed = preprocess.fit_transform(X)\n",
    "print(X_processed[:5])"
   ]
  },
  {
   "cell_type": "markdown",
   "id": "a40c8d18",
   "metadata": {},
   "source": [
    "### Step 4: Split the Dataset into Training and Test Sets\n",
    "\n",
    "I will split the preprocessed dataset into training and testing sets. This will help me evaluate the model's performance on unseen data."
   ]
  },
  {
   "cell_type": "code",
   "execution_count": 54,
   "id": "711ca549",
   "metadata": {},
   "outputs": [
    {
     "name": "stdout",
     "output_type": "stream",
     "text": [
      "X_train shape: (7088, 40)\n",
      "X_test shape: (3039, 40)\n"
     ]
    }
   ],
   "source": [
    "X_train, X_test, y_train, y_test = train_test_split(X_processed, y, test_size=0.3, random_state=42)\n",
    "print(f\"X_train shape: {X_train.shape}\")\n",
    "print(f\"X_test shape: {X_test.shape}\")"
   ]
  },
  {
   "cell_type": "markdown",
   "id": "de93dcae",
   "metadata": {},
   "source": [
    "### Step 5: Apply K-Means Clustering\n",
    "\n",
    "In this step, I will apply the K-Means clustering algorithm to segment customers into distinct clusters. These clusters can reveal underlying patterns in customer behavior that may help improve the prediction accuracy of our churn model."
   ]
  },
  {
   "cell_type": "code",
   "execution_count": 55,
   "id": "86018941",
   "metadata": {},
   "outputs": [
    {
     "name": "stdout",
     "output_type": "stream",
     "text": [
      "X_train_with_clusters shape: (7088, 41)\n",
      "X_test_with_clusters shape: (3039, 41)\n"
     ]
    }
   ],
   "source": [
    "kmeans = KMeans(n_clusters = 4, random_state=42).fit(X_train)\n",
    "\n",
    "X_train_with_clusters = np.c_[X_train, kmeans.labels_]\n",
    "X_test_with_clusters = np.c_[X_test, kmeans.predict(X_test)]\n",
    "print(f\"X_train_with_clusters shape: {X_train_with_clusters.shape}\")\n",
    "print(f\"X_test_with_clusters shape: {X_test_with_clusters.shape}\")"
   ]
  },
  {
   "cell_type": "markdown",
   "id": "4d80d4fa",
   "metadata": {},
   "source": []
  }
 ],
 "metadata": {
  "kernelspec": {
   "display_name": "Python 3",
   "language": "python",
   "name": "python3"
  },
  "language_info": {
   "codemirror_mode": {
    "name": "ipython",
    "version": 3
   },
   "file_extension": ".py",
   "mimetype": "text/x-python",
   "name": "python",
   "nbconvert_exporter": "python",
   "pygments_lexer": "ipython3",
   "version": "3.9.6"
  }
 },
 "nbformat": 4,
 "nbformat_minor": 5
}
