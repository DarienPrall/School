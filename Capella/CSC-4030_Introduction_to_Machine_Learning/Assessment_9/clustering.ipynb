{
 "cells": [
  {
   "cell_type": "markdown",
   "id": "45c69191",
   "metadata": {},
   "source": [
    "### Step 1: Setup the Environment\n",
    "\n",
    "In this step, I will import all the necessary libraries and modules needed for the analysis. This includes libraries for data manipulation, machine learning, and visualization. I will be using Python’s `pandas`, `numpy`, `matplotlib`, and `sklearn` for data preprocessing, clustering, model training, and evaluation."
   ]
  },
  {
   "cell_type": "code",
   "execution_count": 4,
   "id": "75990d3e",
   "metadata": {},
   "outputs": [],
   "source": [
    "import numpy as np\n",
    "import pandas as pd\n",
    "import matplotlib.pyplot as plt\n",
    "\n",
    "from sklearn.model_selection import train_test_split\n",
    "from sklearn.preprocessing import StandardScaler, OneHotEncoder\n",
    "from sklearn.compose import make_column_transformer\n",
    "from sklearn.cluster import KMeans\n",
    "from sklearn.ensemble import RandomForestClassifier\n",
    "from sklearn.metrics import accuracy_score, classification_report\n"
   ]
  },
  {
   "cell_type": "markdown",
   "id": "ba91072a",
   "metadata": {},
   "source": [
    "### Step 2: Load the Dataset\n",
    "\n",
    "In this step, I will load the dataset into a pandas dataframe from the provided path. I will also take a quick look at the first few rows of the dataset to understand its structure and identify the features we need to work with."
   ]
  },
  {
   "cell_type": "code",
   "execution_count": 5,
   "id": "9e20b8a1",
   "metadata": {},
   "outputs": [
    {
     "name": "stdout",
     "output_type": "stream",
     "text": [
      "   CLIENTNUM     Attrition_Flag  Customer_Age Gender  Dependent_count  \\\n",
      "0  768805383  Existing Customer            45      M                3   \n",
      "1  818770008  Existing Customer            49      F                5   \n",
      "2  713982108  Existing Customer            51      M                3   \n",
      "3  769911858  Existing Customer            40      F                4   \n",
      "4  709106358  Existing Customer            40      M                3   \n",
      "\n",
      "  Education_Level Marital_Status Income_Category Card_Category  \\\n",
      "0     High School        Married     $60K - $80K          Blue   \n",
      "1        Graduate         Single  Less than $40K          Blue   \n",
      "2        Graduate        Married    $80K - $120K          Blue   \n",
      "3     High School        Unknown  Less than $40K          Blue   \n",
      "4      Uneducated        Married     $60K - $80K          Blue   \n",
      "\n",
      "   Months_on_book  ...  Credit_Limit  Total_Revolving_Bal  Avg_Open_To_Buy  \\\n",
      "0              39  ...       12691.0                  777          11914.0   \n",
      "1              44  ...        8256.0                  864           7392.0   \n",
      "2              36  ...        3418.0                    0           3418.0   \n",
      "3              34  ...        3313.0                 2517            796.0   \n",
      "4              21  ...        4716.0                    0           4716.0   \n",
      "\n",
      "   Total_Amt_Chng_Q4_Q1  Total_Trans_Amt  Total_Trans_Ct  Total_Ct_Chng_Q4_Q1  \\\n",
      "0                 1.335             1144              42                1.625   \n",
      "1                 1.541             1291              33                3.714   \n",
      "2                 2.594             1887              20                2.333   \n",
      "3                 1.405             1171              20                2.333   \n",
      "4                 2.175              816              28                2.500   \n",
      "\n",
      "   Avg_Utilization_Ratio  \\\n",
      "0                  0.061   \n",
      "1                  0.105   \n",
      "2                  0.000   \n",
      "3                  0.760   \n",
      "4                  0.000   \n",
      "\n",
      "   Naive_Bayes_Classifier_Attrition_Flag_Card_Category_Contacts_Count_12_mon_Dependent_count_Education_Level_Months_Inactive_12_mon_1  \\\n",
      "0                                           0.000093                                                                                    \n",
      "1                                           0.000057                                                                                    \n",
      "2                                           0.000021                                                                                    \n",
      "3                                           0.000134                                                                                    \n",
      "4                                           0.000022                                                                                    \n",
      "\n",
      "   Naive_Bayes_Classifier_Attrition_Flag_Card_Category_Contacts_Count_12_mon_Dependent_count_Education_Level_Months_Inactive_12_mon_2  \n",
      "0                                            0.99991                                                                                   \n",
      "1                                            0.99994                                                                                   \n",
      "2                                            0.99998                                                                                   \n",
      "3                                            0.99987                                                                                   \n",
      "4                                            0.99998                                                                                   \n",
      "\n",
      "[5 rows x 23 columns]\n"
     ]
    }
   ],
   "source": [
    "data = pd.read_csv('/Users/darienprall/Documents/GitHub/School/Capella/CSC-4030_Introduction_to_Machine_Learning/Assessment_9/credit_card_customers.csv')\n",
    "print(data.head())"
   ]
  },
  {
   "cell_type": "markdown",
   "id": "616ef8d0",
   "metadata": {},
   "source": [
    "### Step 3: Data Preprocessing\n",
    "\n",
    "In this step, I will preprocess the data by:\n",
    "- Separating the features (`X`) and the target variable (`y`).\n",
    "- Encoding categorical features using OneHotEncoder.\n",
    "- Scaling numerical features like `Age` and `CreditCardLimit` using StandardScaler.\n",
    "I will use a `ColumnTransformer` to apply these transformations.\n"
   ]
  },
  {
   "cell_type": "code",
   "execution_count": null,
   "id": "899777fa",
   "metadata": {},
   "outputs": [
    {
     "name": "stdout",
     "output_type": "stream",
     "text": [
      "[[-0.1654055800960332 0.4466219030536973 0.0 1.0 0.0 0.0 1.0 0.0 0.0 0.0\n",
      "  768805383 'M' 3 'High School' '$60K - $80K' 39 5 1 3 777 11914.0 1.335\n",
      "  1144 42 1.625 0.061 9.3448e-05 0.99991]\n",
      " [0.33357038345253087 -0.04136665206187948 0.0 0.0 1.0 0.0 1.0 0.0 0.0\n",
      "  0.0 818770008 'F' 5 'Graduate' 'Less than $40K' 44 6 1 2 864 7392.0\n",
      "  1.541 1291 33 3.714 0.105 5.6861e-05 0.99994]\n",
      " [0.5830583652268129 -0.5736977974168198 0.0 1.0 0.0 0.0 1.0 0.0 0.0 0.0\n",
      "  713982108 'M' 3 'Graduate' '$80K - $120K' 36 4 1 0 0 3418.0 2.594 1887\n",
      "  20 2.333 0.0 2.1081e-05 0.99998]\n",
      " [-0.7891255345317383 -0.5852510777521379 0.0 0.0 0.0 1.0 1.0 0.0 0.0 0.0\n",
      "  769911858 'F' 4 'High School' 'Less than $40K' 34 3 4 1 2517 796.0\n",
      "  1.405 1171 20 2.333 0.76 0.00013366 0.99987]\n",
      " [-0.7891255345317383 -0.43087724622403095 0.0 1.0 0.0 0.0 1.0 0.0 0.0\n",
      "  0.0 709106358 'M' 3 'Uneducated' '$60K - $80K' 21 5 1 0 0 4716.0 2.175\n",
      "  816 28 2.5 0.0 2.1676e-05 0.99998]]\n"
     ]
    }
   ],
   "source": [
    "X = data.drop('Attrition_Flag', axis=1)\n",
    "y = data['Attrition_Flag'].map({'Existing Customer': 0, 'Attrited Customer': 1})\n",
    "preprocess = make_column_transformer(\n",
    "    (StandardScaler(), ['Customer_Age','Credit_Limit']),\n",
    "    (OneHotEncoder(), ['Marital_Status', 'Card_Category']),\n",
    "    remainder = 'passthrough'\n",
    ")\n",
    "\n",
    "X_processed = preprocess.fit_transform(X)\n",
    "#print(X_processed[:5])"
   ]
  }
 ],
 "metadata": {
  "kernelspec": {
   "display_name": "Python 3",
   "language": "python",
   "name": "python3"
  },
  "language_info": {
   "codemirror_mode": {
    "name": "ipython",
    "version": 3
   },
   "file_extension": ".py",
   "mimetype": "text/x-python",
   "name": "python",
   "nbconvert_exporter": "python",
   "pygments_lexer": "ipython3",
   "version": "3.9.6"
  }
 },
 "nbformat": 4,
 "nbformat_minor": 5
}
