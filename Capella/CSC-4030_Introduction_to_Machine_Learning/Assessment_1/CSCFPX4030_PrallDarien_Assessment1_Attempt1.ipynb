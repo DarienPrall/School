{
  "nbformat": 4,
  "nbformat_minor": 0,
  "metadata": {
    "colab": {
      "provenance": []
    },
    "kernelspec": {
      "name": "python3",
      "display_name": "Python 3"
    },
    "language_info": {
      "name": "python"
    }
  },
  "cells": [
    {
      "cell_type": "markdown",
      "source": [
        "#**Assessment 1**\n",
        "**Instructions**\n",
        "\n",
        "\n",
        "*   **Item 1:** Log into Google Colab and create a Python program on a new Jupiter notebook that prints out “Hello World.”\n",
        "*   **Item 2:** Write a report that discusses four challenges of machine learning and three use cases for machine learning.\n",
        "\n"
      ],
      "metadata": {
        "id": "BiLmjiHL0qBU"
      }
    },
    {
      "cell_type": "markdown",
      "source": [
        "##**Item 1**"
      ],
      "metadata": {
        "id": "y9CR0upY3LNb"
      }
    },
    {
      "cell_type": "code",
      "source": [
        "print(\"Hello World\")"
      ],
      "metadata": {
        "colab": {
          "base_uri": "https://localhost:8080/"
        },
        "id": "QaLSh1Kh3Kh5",
        "outputId": "b6ba1b1f-fcfb-43e9-ebda-45c9a31edc50"
      },
      "execution_count": 1,
      "outputs": [
        {
          "output_type": "stream",
          "name": "stdout",
          "text": [
            "Hello World\n"
          ]
        }
      ]
    },
    {
      "cell_type": "markdown",
      "source": [
        "##**Item 2**\n",
        "Will be provided in a seperate word document."
      ],
      "metadata": {
        "id": "sWE27vbJ3kRj"
      }
    }
  ]
}