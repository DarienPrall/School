{
 "cells": [
  {
   "cell_type": "markdown",
   "id": "c4d5df47",
   "metadata": {},
   "source": [
    "# Assessment 4: SVM Classifier\n",
    "Darien Prall 04-08-2025\n",
    "### Instructions:\n",
    "1. Setup your environment\n",
    "2. Load the Dataset\n",
    "3. Preprocess the Data\n",
    "4. Train an SVM Classifier\n",
    "5. Experiment with Different Kernels\n",
    "6. Evaluate the Model\n",
    "8. Conclusions (seperate document)"
   ]
  },
  {
   "cell_type": "markdown",
   "id": "889dcdba",
   "metadata": {},
   "source": [
    "# 1. Setup your environment\n",
    "## Tasks\n",
    "- Ensure Python3 and Jupyter Notebooks is installed\n",
    "- Install Scikit-Learn: Run `pip install scikit-learn` in your terminal\n",
    "\n",
    "## Approach\n"
   ]
  },
  {
   "cell_type": "markdown",
   "id": "c838ff28",
   "metadata": {},
   "source": [
    "# 2. Load the Dataset\n",
    "## Tasks\n",
    "- Import necessary libraries\n",
    "- Load the Fashion MNIST Dataset\n",
    "\n",
    "## Approach\n"
   ]
  },
  {
   "cell_type": "markdown",
   "id": "1d254f7f",
   "metadata": {},
   "source": [
    "# 3. Preprocess the Data\n",
    "## Tasks\n",
    "- Normalize the pixel values for better performance\n",
    "\n",
    "## Approach\n"
   ]
  },
  {
   "cell_type": "markdown",
   "id": "8d465709",
   "metadata": {},
   "source": [
    "# 4. Train an SVM Classifier\n",
    "## Tasks\n",
    "- Import the SVM Classifier\n",
    "- Fot the SVM Classifier in to the training data\n",
    "\n",
    "## Approach\n"
   ]
  },
  {
   "cell_type": "markdown",
   "id": "9b2d3b96",
   "metadata": {},
   "source": [
    "# 5. Experiment with Different Kernels\n",
    "## Tasks\n",
    "- Modify the kernel type (e.g., `rbf`, `poly`) and parameters like `C` or `gama` to see how they affect the accuracy score.\n",
    "\n",
    "## Approach\n"
   ]
  },
  {
   "cell_type": "markdown",
   "id": "81e1f02e",
   "metadata": {},
   "source": [
    "# 6. Evaluate the Model\n",
    "## Tasks\n",
    "- Use the test set to evaluate your model's performance\n",
    "\n",
    "## Approach\n"
   ]
  }
 ],
 "metadata": {
  "language_info": {
   "name": "python"
  }
 },
 "nbformat": 4,
 "nbformat_minor": 5
}
