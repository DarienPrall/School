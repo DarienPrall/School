{
 "cells": [
  {
   "cell_type": "markdown",
   "id": "3fb7d0db",
   "metadata": {},
   "source": [
    "# PROJECT STEPS\n",
    "\n",
    "- [ **COMPLT** ] - Code Introduction\n",
    "\n",
    "- [ **COMPLT** ] - Import all photos\n",
    "\n",
    "- [ **COMPLT** ] - Cite Datasource\n",
    "\n",
    "- [ **COMPLT** ] - Store all photos\n",
    "\n",
    "- [ **COMPLT** ] - Create `face_manifest`\n",
    "\n",
    "- [ **COMPLT** ] - Import libraries\n",
    "\n",
    "- [ **COMPLT** ] - Define all paths\n",
    "\n",
    "- [ **COMPLT** ] - Initialize the DNN-based face detector\n",
    "\n",
    "- [ **COMPLT** ] - Define `detect_faces` function to detect faces for a single image\n",
    "\n",
    "- [ **COMPLT** ] - Run Tests on `detect_faces` operability\n",
    "\n",
    "- [ **COMPLT** ] - Define `detect_faces_in_folder` function\n",
    "\n",
    "- [ **COMPLT** ] - Allow `detect_faces_in_folder` function to store outputs accordingly\n",
    "\n",
    "- [ **COMPLT** ] - Define `load_face_manifest` to load face manifest for comparison\n",
    "\n",
    "- [ **COMPLT** ] - Finetune Face detection\n",
    "\n",
    "- [ **COMPLT** ] - Define `analyze_function` to compare outputs to face manifest (source of truth)\n",
    "\n",
    "- [ **COMPLT** ] - Define `blur_faces` function to look through faces folder and blur each face\n",
    "\n",
    "- [ **COMPLT** ] - Create video of application running with explanations"
   ]
  }
 ],
 "metadata": {
  "language_info": {
   "name": "python"
  }
 },
 "nbformat": 4,
 "nbformat_minor": 5
}
