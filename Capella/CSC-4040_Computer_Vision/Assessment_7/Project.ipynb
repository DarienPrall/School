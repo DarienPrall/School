{
 "cells": [
  {
   "cell_type": "markdown",
   "id": "6bb717f1",
   "metadata": {},
   "source": [
    "- [ **COMPLT** ] - Code Introduction\n",
    "\n",
    "- [ **COMPLT** ] - Import all photos\n",
    "\n",
    "- [ **COMPLT** ] - Cite Datasource\n",
    "\n",
    "- [ **COMPLT** ] - Store all photos\n",
    "\n",
    "- [ **COMPLT** ] - Create `Face Manifest`\n",
    "\n",
    "- [ **COMPLT** ] - Create `Mask Manifest`\n",
    "\n",
    "- [ **COMPLT** ] - Import libraries\n",
    "\n",
    "- [ **COMPLT** ] - Define all paths\n",
    "\n",
    "- [ **COMPLT** ] - Initialize the DNN-based face detector\n",
    "\n",
    "- [ **COMPLT** ] - Define `detect_faces` function to detect faces for a single image\n",
    "\n",
    "- [ **COMPLT** ] - Run Tests on `detect_faces` operability\n",
    "\n",
    "- [ **COMPLT** ] - Define `detect_faces_in_folder` function\n",
    "\n",
    "- [ **COMPLT** ] - Allow `detect_faces_in_folder` function to store outputs accordingly\n",
    "\n",
    "- [ **COMPLT** ] - Define `load_mask_manifest` and `load_face_manifest` to load face and mask manifest for comparison\n",
    "\n",
    "- [ **UPNEXT** ] - Define `analyze_function` to compare outputs to face manifest (source of truth)\n",
    "\n",
    "- [ **NTSTRD** ] - Define `detect_mask` function to detect faces for a single image\n",
    "\n",
    "- [ **NTSTRD** ] - Run tests on `detect_mask` operability\n",
    "\n",
    "- [ **NTSTRD** ] - Define `detect_mask_in_folder` function\n",
    "\n",
    "- [ **NTSTRD** ] - Allow `detect_mask_in_folder` function to store ouputs accordingly\n",
    "\n",
    "- [ **NTSTRD** ] - Use `analyze_results` to compare mask outputs to mask manifest (source of truth)\n"
   ]
  }
 ],
 "metadata": {
  "language_info": {
   "name": "python"
  }
 },
 "nbformat": 4,
 "nbformat_minor": 5
}
